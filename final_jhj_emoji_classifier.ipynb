{
 "cells": [
  {
   "cell_type": "code",
   "execution_count": 2,
   "metadata": {},
   "outputs": [],
   "source": [
    "%store -r jhj_emoji_texts\n",
    "%store -r jhj_emoji_labels"
   ]
  },
  {
   "cell_type": "code",
   "execution_count": 3,
   "metadata": {},
   "outputs": [],
   "source": [
    "#hashtags und emojis sind entfernt worden (in der corpusfile)\n",
    "#preprocessing wird hier gemacht"
   ]
  },
  {
   "cell_type": "code",
   "execution_count": 4,
   "metadata": {},
   "outputs": [],
   "source": [
    "from sklearn.feature_extraction.text import CountVectorizer\n",
    "import nltk"
   ]
  },
  {
   "cell_type": "code",
   "execution_count": 5,
   "metadata": {},
   "outputs": [],
   "source": [
    "#######clean#######"
   ]
  },
  {
   "cell_type": "code",
   "execution_count": 6,
   "metadata": {},
   "outputs": [],
   "source": [
    "from num2words import num2words\n",
    "#convert everything to lowercase\n",
    "jhj_emoji_texts = [x.lower() for x in jhj_emoji_texts]\n",
    "#exchange numbers with their string representation\n",
    "#make numbers to text\n",
    "temp = []\n",
    "without_num = []\n",
    "for post in jhj_emoji_texts:\n",
    "    for word in post.split(\" \"):\n",
    "        if word.isdigit():\n",
    "            #print(word)\n",
    "            word = num2words(word, lang=\"de\")\n",
    "        temp.append(word)\n",
    "    without_num.append((' '.join(temp)))\n",
    "    temp = []\n",
    "jhj_emoji_texts = without_num"
   ]
  },
  {
   "cell_type": "code",
   "execution_count": 7,
   "metadata": {},
   "outputs": [],
   "source": [
    "#######feature extraction#########"
   ]
  },
  {
   "cell_type": "code",
   "execution_count": 8,
   "metadata": {},
   "outputs": [],
   "source": [
    "#without deleting stopwords\n",
    "#ngram feature matrices\n",
    "\n",
    "#unigram\n",
    "uni_vectorizer = CountVectorizer(ngram_range=(1,1))\n",
    "unigram_feature_vector = uni_vectorizer.fit_transform(jhj_emoji_texts).toarray() \n",
    "\n",
    "#uni and bigram\n",
    "uni_bi_vectorizer = CountVectorizer(ngram_range=(1,2))\n",
    "unigram_bi_feature_vector = uni_bi_vectorizer.fit_transform(jhj_emoji_texts).toarray() \n",
    "\n",
    "#bigram\n",
    "bi_vectorizer = CountVectorizer(ngram_range=(2,2))\n",
    "bigram_feature_vector = bi_vectorizer.fit_transform(jhj_emoji_texts).toarray()\n",
    "\n",
    "\n",
    "#trigram\n",
    "tri_vectorizer = CountVectorizer(ngram_range=(3,3))\n",
    "trigram_feature_vector = tri_vectorizer.fit_transform(jhj_emoji_texts).toarray() "
   ]
  },
  {
   "cell_type": "code",
   "execution_count": 9,
   "metadata": {},
   "outputs": [],
   "source": [
    "#tfidf vectorizer ohne stopwords zu löschen\n",
    "from sklearn.feature_extraction.text import TfidfVectorizer\n",
    "tfidf_vectorizer = TfidfVectorizer()\n",
    "tfidf = tfidf_vectorizer.fit_transform(jhj_emoji_texts).toarray() #feature matrix"
   ]
  },
  {
   "cell_type": "code",
   "execution_count": 10,
   "metadata": {},
   "outputs": [
    {
     "name": "stdout",
     "output_type": "stream",
     "text": [
      "858\n"
     ]
    }
   ],
   "source": [
    "#numerical features\n",
    "#average length of post, average sentence length, average number of punctuation\n",
    "#punctuation weg lassen weil nicht wirklich aussagekräftig\n",
    "\n",
    "\n",
    "import numpy\n",
    "import string\n",
    "from nltk import tokenize\n",
    "\n",
    "post_length = [] #feature vector\n",
    "counter = 0\n",
    "number_of_punct = [] #feature vector\n",
    "sentence_lengths = [] \n",
    "tokenized_posts = []\n",
    "for text in jhj_emoji_texts:\n",
    "    post_length.append([len(text.split())])\n",
    "    tokenized_posts.append(tokenize.sent_tokenize(text))\n",
    "    for char in text:\n",
    "        if char in string.punctuation:\n",
    "            counter+=1\n",
    "    number_of_punct.append([counter])\n",
    "    counter = 0\n",
    "sent = []\n",
    "for post in tokenized_posts:\n",
    "    for sentence in post:\n",
    "        sent.append(len(sentence.split()))\n",
    "    sentence_lengths.append(sent)\n",
    "    sent = []\n",
    "#get average\n",
    "average_sent_len = [] #feature vector\n",
    "for post in sentence_lengths:\n",
    "    average_sent_len.append([sum(post)/len(post)])    \n",
    "print(len(sentence_lengths))\n"
   ]
  },
  {
   "cell_type": "code",
   "execution_count": 12,
   "metadata": {},
   "outputs": [
    {
     "name": "stdout",
     "output_type": "stream",
     "text": [
      "858\n"
     ]
    }
   ],
   "source": [
    "#POS features\n",
    "import spacy\n",
    "nlp = spacy.load('de_core_news_md')\n",
    "\n",
    "#get POStags via spacy\n",
    "spacy_obj = []\n",
    "post_as_pos_tags = []\n",
    "as_pos = [] #this\n",
    "for text in jhj_emoji_texts:\n",
    "    spacy_obj.append(nlp(text))\n",
    "for text in spacy_obj:\n",
    "    for token in text:\n",
    "        post_as_pos_tags.append(token.tag_)\n",
    "    as_pos.append(' '.join(post_as_pos_tags))\n",
    "    post_as_pos_tags = []\n",
    "\n",
    "#neue POS-features\n",
    "ADV_count = []\n",
    "PPER_count = []\n",
    "comma_count = []\n",
    "NE_count = []\n",
    "NN_count = []\n",
    "ADJD_count = []\n",
    "for post in as_pos:\n",
    "    ADV_count.append([post.count(\"ADV\")])\n",
    "    PPER_count.append([post.count(\"PPER\")])\n",
    "    comma_count.append([post.count(\"$,\")])\n",
    "    NE_count.append([post.count(\"NE\")])\n",
    "    NN_count.append([post.count(\"NN\")])\n",
    "    ADJD_count.append([post.count(\"ADJD\")])\n",
    "    \n",
    "print(len(ADJD_count))\n",
    "\n",
    "#EXPERIMENTS\n",
    "#get posts as sequence of pos tags\n",
    "#as_pos = sequence of pos tags\n",
    "#make sequences into count vectorizers\n",
    "pos_vec_uni = CountVectorizer(ngram_range=(1,1))\n",
    "pos_uni_count_vec = pos_vec_uni.fit_transform(as_pos).toarray() #uni feature vector\n",
    "pos_vec_bi = CountVectorizer(ngram_range=(2,2))\n",
    "pos_bi_count_vec = pos_vec_bi.fit_transform(as_pos).toarray() #bi feature vector\n",
    "#make theminto tfidf vectorizers\n",
    "tfidf_vectorizer_pos = TfidfVectorizer()\n",
    "tfidf_pos = tfidf_vectorizer_pos.fit_transform(as_pos) #tfidf pos feature matrix hat das iwelche benefits??"
   ]
  },
  {
   "cell_type": "code",
   "execution_count": 13,
   "metadata": {},
   "outputs": [
    {
     "name": "stdout",
     "output_type": "stream",
     "text": [
      "(858, 300)\n"
     ]
    }
   ],
   "source": [
    "#document vectors as features\n",
    "\n",
    "spacy_posts = []\n",
    "vector_posts = []\n",
    "temp_post = []\n",
    "for post in jhj_emoji_texts:\n",
    "    spacy_posts.append(nlp(post))\n",
    "for post in spacy_posts:\n",
    "    for word in post:\n",
    "        temp_post.append(word.vector)\n",
    "    vector_posts.append(temp_post)\n",
    "    temp_post = []\n",
    "    \n",
    "mean_vector_posts = []\n",
    "for post_list in vector_posts:\n",
    "    #print(len(post))\n",
    "    mean_vector_posts.append([sum(post_list)/len(post_list)])\n",
    "    \n",
    "word_vector_feature = numpy.concatenate(mean_vector_posts, axis=0)\n",
    "print(word_vector_feature.shape)   \n"
   ]
  },
  {
   "cell_type": "code",
   "execution_count": 14,
   "metadata": {},
   "outputs": [
    {
     "name": "stdout",
     "output_type": "stream",
     "text": [
      "858\n",
      "from  (858, 55, 300)  to  (858, 16500)\n"
     ]
    }
   ],
   "source": [
    "#wordvectors as features\n",
    "\n",
    "#make all to numpy arrays\n",
    "np_posts = []\n",
    "for p in vector_posts:\n",
    "    np_posts.append(numpy.array(p))\n",
    "       \n",
    "#test\n",
    "padded_arrays = []\n",
    "for p in np_posts:\n",
    "       padded_arrays.append(numpy.pad(p, ((0, (55 - p.shape[0])), (0, 0)), 'constant', constant_values=0))\n",
    "print(len(padded_arrays))\n",
    "\n",
    "\n",
    "np_pad_arr = numpy.array(padded_arrays)\n",
    "np_pad_arr.shape #shape (97, 48, 300)\n",
    "\n",
    "nodoc = numpy.reshape (np_pad_arr, (858, -1)) #FEATURE VECTOR FOR WORDVECTORS\n",
    "print(\"from \", np_pad_arr.shape, \" to \", nodoc.shape)#just a test for the right dimensions\n"
   ]
  },
  {
   "cell_type": "code",
   "execution_count": 15,
   "metadata": {},
   "outputs": [],
   "source": [
    "###################combine feature-vectors:##########################"
   ]
  },
  {
   "cell_type": "code",
   "execution_count": 16,
   "metadata": {},
   "outputs": [],
   "source": [
    "#combine feature-vectors:\n",
    "\n",
    "#uni-grams\n",
    "#unigram_feature_vector\n",
    "\n",
    "#bigrams\n",
    "#bigram_feature_vector\n",
    "\n",
    "#trigrams\n",
    "#trigram_feature_vector\n",
    "\n",
    "#unigrams and bigrams\n",
    "#unigram_bigram_feature_vector\n",
    "\n",
    "#tfidf\n",
    "\n",
    "#alle POS-features\n",
    "pos = numpy.append(ADV_count, comma_count, 1)\n",
    "pos = numpy.append(pos, NE_count, 1)\n",
    "pos = numpy.append(pos, NN_count, 1)\n",
    "pos = numpy.append(pos, ADJD_count, 1)\n",
    "pos = numpy.append(pos, PPER_count, 1)\n",
    "\n",
    "#numerical features\n",
    "#sentence_length\n",
    "post_sent = numpy.append(post_length, average_sent_len, 1)\n",
    "post_sent_punct = numpy.append(post_sent, number_of_punct, 1)\n",
    "\n",
    "#documents vectors\n",
    "#word_vector_feature\n",
    "\n",
    "#wordvectors\n",
    "#nodoc\n",
    "\n",
    "\n",
    "\n",
    "# 3) uni-grams, bigrams, trigrams\n",
    "uni_bi_tri_feat_vec = numpy.append(unigram_feature_vector, bigram_feature_vector, 1)\n",
    "uni_bi_tri_feat_vec = numpy.append(uni_bi_tri_feat_vec,trigram_feature_vector, 1)\n",
    "\n",
    "# 4) tfidf and bigrams\n",
    "tfidf_bigram = numpy.append(tfidf, bigram_feature_vector, 1)\n",
    "\n",
    "# 5) unigrams and POS features\n",
    "uni_pos_new = numpy.append(unigram_feature_vector, pos, 1)\n",
    "\n",
    "# 6) unigrams and numerical features\n",
    "uni_num = numpy.append(unigram_feature_vector, post_sent_punct, 1)\n",
    "\n",
    "# 7) unigrams and POS tags and numerical features\n",
    "uni_num_pos = numpy.append(uni_num, pos, 1)\n",
    "\n",
    "# 8) Bigrams and POS\n",
    "bi_pos_new = numpy.append(bigram_feature_vector, pos, 1)\n",
    "\n",
    "# 9) bigrams and numerical features\n",
    "bi_num = numpy.append(bigram_feature_vector, post_sent_punct, 1)\n",
    "\n",
    "# 10) bigrams and POS tags and numerical features\n",
    "bi_num_pos = numpy.append(bi_num, pos, 1)\n",
    "\n",
    "# 11) tfidf and POS\n",
    "tfidf_pos_new = numpy.append(tfidf, pos, 1)\n",
    "\n",
    "# 12) tfidf and numerical features\n",
    "tfidf_num = numpy.append(tfidf, post_sent_punct, 1)\n",
    "\n",
    "# 13) tfidf and POS tags and numerical features\n",
    "tfidf_num_pos = numpy.append(tfidf_num, pos, 1)\n",
    "\n",
    "# 14) wordvec and POS\n",
    "wordvec_pos = numpy.append(nodoc, pos, 1)\n",
    "\n",
    "# 15) wordvec and numerical features\n",
    "wordvec_num = numpy.append(nodoc, post_sent_punct, 1)\n",
    "\n",
    "# 16) wordvec and POS tags and numerical features\n",
    "wordvec_num_pos = numpy.append(wordvec_num, pos, 1)\n",
    "\n",
    "# 17) docvec and POS\n",
    "docvec_pos = numpy.append(word_vector_feature, pos, 1)\n",
    "\n",
    "# 18) docvec and numerical features\n",
    "docvec_num = numpy.append(word_vector_feature, post_sent_punct, 1)\n",
    "\n",
    "# 19) docvec and POS tags and numerical features\n",
    "docvec_num_pos = numpy.append(docvec_num, pos, 1)\n",
    "\n",
    "\n",
    "# 20)POS and numerical features\n",
    "pos_post_sent_len = numpy.append(pos, post_sent, 1)\n",
    "pos_num = numpy.append(post_sent_punct, pos, 1)\n",
    "\n",
    "# 21) alle\n",
    "all_features = numpy.append(unigram_feature_vector, bigram_feature_vector, 1)\n",
    "all_features = numpy.append(all_features, trigram_feature_vector , 1)\n",
    "all_features = numpy.append(all_features, tfidf, 1)\n",
    "all_features = numpy.append(all_features,post_sent_punct, 1)\n",
    "all_features = numpy.append(all_features, pos, 1)\n",
    "all_features = numpy.append(all_features,nodoc, 1)\n",
    "all_features = numpy.append(all_features,word_vector_feature, 1)\n"
   ]
  },
  {
   "cell_type": "code",
   "execution_count": 17,
   "metadata": {},
   "outputs": [],
   "source": [
    "#########train and test######################"
   ]
  },
  {
   "cell_type": "code",
   "execution_count": 18,
   "metadata": {},
   "outputs": [],
   "source": [
    "######logistic regression########"
   ]
  },
  {
   "cell_type": "code",
   "execution_count": 19,
   "metadata": {},
   "outputs": [],
   "source": [
    "from numpy import mean\n",
    "from numpy import std\n",
    "from sklearn.linear_model import LogisticRegression\n",
    "from sklearn.model_selection import KFold\n",
    "from sklearn.model_selection import cross_val_score\n",
    "from sklearn.metrics import classification_report, confusion_matrix, accuracy_score\n",
    "from sklearn.model_selection import cross_val_predict"
   ]
  },
  {
   "cell_type": "code",
   "execution_count": 65,
   "metadata": {},
   "outputs": [
    {
     "name": "stdout",
     "output_type": "stream",
     "text": [
      "scores: [0.8372093  0.76744186 0.88372093 0.79069767 0.8372093  0.80232558\n",
      " 0.77906977 0.80232558 0.84705882 0.81176471]\n",
      "Accuracy: 0.816 (0.033)\n"
     ]
    }
   ],
   "source": [
    "X = unigram_feature_vector#data\n",
    "y = jhj_emoji_labels#target\n",
    "\n",
    "kf = KFold(n_splits=10, random_state=1, shuffle=True)\n",
    "\n",
    "# create model\n",
    "model = LogisticRegression(class_weight='balanced')\n",
    "\n",
    "# evaluate model\n",
    "scores = cross_val_score(model, X, y, scoring='accuracy', cv=kf, n_jobs=-1)\n",
    "print(\"scores:\", scores)\n",
    "\n",
    "# report performance\n",
    "print('Accuracy: %.3f (%.3f)' % (mean(scores), std(scores)))\n"
   ]
  },
  {
   "cell_type": "code",
   "execution_count": 66,
   "metadata": {},
   "outputs": [
    {
     "name": "stdout",
     "output_type": "stream",
     "text": [
      "scores: [0.77906977 0.74418605 0.8372093  0.72093023 0.87209302 0.77906977\n",
      " 0.8372093  0.79069767 0.85882353 0.85882353]\n",
      "Accuracy: 0.808 (0.050)\n"
     ]
    }
   ],
   "source": [
    "X = bigram_feature_vector#data\n",
    "y = jhj_emoji_labels#target\n",
    "\n",
    "kf = KFold(n_splits=10, random_state=1, shuffle=True)\n",
    "\n",
    "# create model\n",
    "model = LogisticRegression(class_weight='balanced')\n",
    "\n",
    "# evaluate model\n",
    "scores = cross_val_score(model, X, y, scoring='accuracy', cv=kf, n_jobs=-1)\n",
    "print(\"scores:\", scores)\n",
    "\n",
    "# report performance\n",
    "print('Accuracy: %.3f (%.3f)' % (mean(scores), std(scores)))"
   ]
  },
  {
   "cell_type": "code",
   "execution_count": 70,
   "metadata": {},
   "outputs": [
    {
     "name": "stdout",
     "output_type": "stream",
     "text": [
      "scores: [0.72093023 0.76744186 0.77906977 0.73255814 0.74418605 0.74418605\n",
      " 0.77906977 0.72093023 0.78823529 0.77647059]\n",
      "Accuracy: 0.755 (0.024)\n"
     ]
    }
   ],
   "source": [
    "X = trigram_feature_vector#data\n",
    "y = jhj_emoji_labels#target\n",
    "\n",
    "kf = KFold(n_splits=10, random_state=1, shuffle=True)\n",
    "\n",
    "# create model\n",
    "model = LogisticRegression(class_weight='balanced')\n",
    "\n",
    "# evaluate model\n",
    "scores = cross_val_score(model, X, y, scoring='accuracy', cv=kf, n_jobs=-1)\n",
    "print(\"scores:\", scores)\n",
    "\n",
    "# report performance\n",
    "print('Accuracy: %.3f (%.3f)' % (mean(scores), std(scores)))"
   ]
  },
  {
   "cell_type": "code",
   "execution_count": 73,
   "metadata": {},
   "outputs": [
    {
     "name": "stdout",
     "output_type": "stream",
     "text": [
      "scores: [0.87209302 0.8255814  0.88372093 0.79069767 0.81395349 0.81395349\n",
      " 0.80232558 0.8255814  0.87058824 0.87058824]\n",
      "Accuracy: 0.837 (0.032)\n"
     ]
    }
   ],
   "source": [
    "X = tfidf#data\n",
    "y = jhj_emoji_labels#target\n",
    "\n",
    "kf = KFold(n_splits=10, random_state=1, shuffle=True)\n",
    "\n",
    "# create model\n",
    "model = LogisticRegression(class_weight='balanced')\n",
    "\n",
    "# evaluate model\n",
    "scores = cross_val_score(model, X, y, scoring='accuracy', cv=kf, n_jobs=-1)\n",
    "print(\"scores:\", scores)\n",
    "\n",
    "# report performance\n",
    "print('Accuracy: %.3f (%.3f)' % (mean(scores), std(scores)))"
   ]
  },
  {
   "cell_type": "code",
   "execution_count": 74,
   "metadata": {},
   "outputs": [
    {
     "name": "stdout",
     "output_type": "stream",
     "text": [
      "scores: [0.58139535 0.63953488 0.53488372 0.53488372 0.52325581 0.58139535\n",
      " 0.47674419 0.47674419 0.57647059 0.56470588]\n",
      "Accuracy: 0.549 (0.048)\n"
     ]
    }
   ],
   "source": [
    "X = post_sent_punct#data\n",
    "y = jhj_emoji_labels#target\n",
    "\n",
    "kf = KFold(n_splits=10, random_state=1, shuffle=True)\n",
    "\n",
    "# create model\n",
    "model = LogisticRegression(class_weight='balanced')\n",
    "\n",
    "# evaluate model\n",
    "scores = cross_val_score(model, X, y, scoring='accuracy', cv=kf, n_jobs=-1)\n",
    "print(\"scores:\", scores)\n",
    "\n",
    "# report performance\n",
    "print('Accuracy: %.3f (%.3f)' % (mean(scores), std(scores)))"
   ]
  },
  {
   "cell_type": "code",
   "execution_count": 75,
   "metadata": {},
   "outputs": [
    {
     "name": "stdout",
     "output_type": "stream",
     "text": [
      "scores: [0.59302326 0.48837209 0.46511628 0.56976744 0.5        0.5\n",
      " 0.54651163 0.54651163 0.58823529 0.55294118]\n",
      "Accuracy: 0.535 (0.042)\n"
     ]
    }
   ],
   "source": [
    "X = pos#data\n",
    "y = jhj_emoji_labels#target\n",
    "\n",
    "kf = KFold(n_splits=10, random_state=1, shuffle=True)\n",
    "\n",
    "# create model\n",
    "model = LogisticRegression(class_weight='balanced')\n",
    "\n",
    "# evaluate model\n",
    "scores = cross_val_score(model, X, y, scoring='accuracy', cv=kf, n_jobs=-1)\n",
    "print(\"scores:\", scores)\n",
    "\n",
    "# report performance\n",
    "print('Accuracy: %.3f (%.3f)' % (mean(scores), std(scores)))"
   ]
  },
  {
   "cell_type": "code",
   "execution_count": 76,
   "metadata": {},
   "outputs": [
    {
     "name": "stdout",
     "output_type": "stream",
     "text": [
      "scores: [0.8372093  0.74418605 0.76744186 0.74418605 0.80232558 0.79069767\n",
      " 0.77906977 0.84883721 0.83529412 0.83529412]\n",
      "Accuracy: 0.798 (0.037)\n"
     ]
    }
   ],
   "source": [
    "X = nodoc#data\n",
    "y = jhj_emoji_labels#target\n",
    "\n",
    "kf = KFold(n_splits=10, random_state=1, shuffle=True)\n",
    "\n",
    "# create model\n",
    "model = LogisticRegression(class_weight='balanced')\n",
    "\n",
    "# evaluate model\n",
    "scores = cross_val_score(model, X, y, scoring='accuracy', cv=kf, n_jobs=-1)\n",
    "print(\"scores:\", scores)\n",
    "\n",
    "# report performance\n",
    "print('Accuracy: %.3f (%.3f)' % (mean(scores), std(scores)))"
   ]
  },
  {
   "cell_type": "code",
   "execution_count": 77,
   "metadata": {},
   "outputs": [
    {
     "name": "stdout",
     "output_type": "stream",
     "text": [
      "scores: [0.8372093  0.77906977 0.8372093  0.8372093  0.79069767 0.86046512\n",
      " 0.81395349 0.79069767 0.88235294 0.81176471]\n",
      "Accuracy: 0.824 (0.031)\n"
     ]
    }
   ],
   "source": [
    "X = word_vector_feature#data\n",
    "y = jhj_emoji_labels#target\n",
    "\n",
    "kf = KFold(n_splits=10, random_state=1, shuffle=True)\n",
    "\n",
    "# create model\n",
    "model = LogisticRegression(class_weight='balanced')\n",
    "\n",
    "# evaluate model\n",
    "scores = cross_val_score(model, X, y, scoring='accuracy', cv=kf, n_jobs=-1)\n",
    "print(\"scores:\", scores)\n",
    "\n",
    "# report performance\n",
    "print('Accuracy: %.3f (%.3f)' % (mean(scores), std(scores)))"
   ]
  },
  {
   "cell_type": "code",
   "execution_count": null,
   "metadata": {},
   "outputs": [],
   "source": [
    "##combinations##"
   ]
  },
  {
   "cell_type": "code",
   "execution_count": 78,
   "metadata": {},
   "outputs": [
    {
     "name": "stdout",
     "output_type": "stream",
     "text": [
      "scores: [0.8372093  0.76744186 0.89534884 0.8255814  0.84883721 0.8255814\n",
      " 0.81395349 0.81395349 0.85882353 0.81176471]\n",
      "Accuracy: 0.830 (0.032)\n"
     ]
    }
   ],
   "source": [
    "#2\n",
    "X = unigram_bi_feature_vector#data\n",
    "y = jhj_emoji_labels#target\n",
    "\n",
    "kf = KFold(n_splits=10, random_state=1, shuffle=True)\n",
    "\n",
    "# create model\n",
    "model = LogisticRegression(class_weight='balanced')\n",
    "\n",
    "# evaluate model\n",
    "scores = cross_val_score(model, X, y, scoring='accuracy', cv=kf, n_jobs=-1)\n",
    "print(\"scores:\", scores)\n",
    "\n",
    "# report performance\n",
    "print('Accuracy: %.3f (%.3f)' % (mean(scores), std(scores)))"
   ]
  },
  {
   "cell_type": "code",
   "execution_count": 79,
   "metadata": {},
   "outputs": [
    {
     "name": "stdout",
     "output_type": "stream",
     "text": [
      "scores: [0.8255814  0.79069767 0.90697674 0.79069767 0.84883721 0.8372093\n",
      " 0.80232558 0.77906977 0.84705882 0.84705882]\n",
      "Accuracy: 0.828 (0.037)\n"
     ]
    }
   ],
   "source": [
    "#3\n",
    "X = uni_bi_tri_feat_vec#data\n",
    "y = jhj_emoji_labels#target\n",
    "\n",
    "kf = KFold(n_splits=10, random_state=1, shuffle=True)\n",
    "\n",
    "# create model\n",
    "model = LogisticRegression(class_weight='balanced')\n",
    "\n",
    "# evaluate model\n",
    "scores = cross_val_score(model, X, y, scoring='accuracy', cv=kf, n_jobs=-1)\n",
    "print(\"scores:\", scores)\n",
    "\n",
    "# report performance\n",
    "print('Accuracy: %.3f (%.3f)' % (mean(scores), std(scores)))"
   ]
  },
  {
   "cell_type": "code",
   "execution_count": 81,
   "metadata": {},
   "outputs": [
    {
     "name": "stdout",
     "output_type": "stream",
     "text": [
      "scores: [0.79069767 0.75581395 0.8372093  0.75581395 0.88372093 0.79069767\n",
      " 0.84883721 0.81395349 0.85882353 0.87058824]\n",
      "Accuracy: 0.821 (0.044)\n"
     ]
    }
   ],
   "source": [
    "#4\n",
    "X = tfidf_bigram#data\n",
    "y = jhj_emoji_labels#target\n",
    "\n",
    "kf = KFold(n_splits=10, random_state=1, shuffle=True)\n",
    "\n",
    "# create model\n",
    "model = LogisticRegression(class_weight='balanced')\n",
    "\n",
    "# evaluate model\n",
    "scores = cross_val_score(model, X, y, scoring='accuracy', cv=kf, n_jobs=-1)\n",
    "print(\"scores:\", scores)\n",
    "\n",
    "# report performance\n",
    "print('Accuracy: %.3f (%.3f)' % (mean(scores), std(scores)))"
   ]
  },
  {
   "cell_type": "code",
   "execution_count": 82,
   "metadata": {},
   "outputs": [
    {
     "name": "stdout",
     "output_type": "stream",
     "text": [
      "scores: [0.86046512 0.80232558 0.88372093 0.76744186 0.87209302 0.77906977\n",
      " 0.77906977 0.80232558 0.84705882 0.83529412]\n",
      "Accuracy: 0.823 (0.040)\n"
     ]
    }
   ],
   "source": [
    "#5\n",
    "X = uni_pos_new#data\n",
    "y = jhj_emoji_labels#target\n",
    "\n",
    "kf = KFold(n_splits=10, random_state=1, shuffle=True)\n",
    "\n",
    "# create model\n",
    "model = LogisticRegression(class_weight='balanced')\n",
    "\n",
    "# evaluate model\n",
    "scores = cross_val_score(model, X, y, scoring='accuracy', cv=kf, n_jobs=-1)\n",
    "print(\"scores:\", scores)\n",
    "\n",
    "# report performance\n",
    "print('Accuracy: %.3f (%.3f)' % (mean(scores), std(scores)))"
   ]
  },
  {
   "cell_type": "code",
   "execution_count": 83,
   "metadata": {},
   "outputs": [
    {
     "name": "stdout",
     "output_type": "stream",
     "text": [
      "scores: [0.8372093  0.80232558 0.86046512 0.81395349 0.8372093  0.8372093\n",
      " 0.79069767 0.76744186 0.83529412 0.84705882]\n",
      "Accuracy: 0.823 (0.027)\n"
     ]
    }
   ],
   "source": [
    "#6\n",
    "X = uni_num#data\n",
    "y = jhj_emoji_labels#target\n",
    "\n",
    "kf = KFold(n_splits=10, random_state=1, shuffle=True)\n",
    "\n",
    "# create model\n",
    "model = LogisticRegression(class_weight='balanced')\n",
    "\n",
    "# evaluate model\n",
    "scores = cross_val_score(model, X, y, scoring='accuracy', cv=kf, n_jobs=-1)\n",
    "print(\"scores:\", scores)\n",
    "\n",
    "# report performance\n",
    "print('Accuracy: %.3f (%.3f)' % (mean(scores), std(scores)))"
   ]
  },
  {
   "cell_type": "code",
   "execution_count": 84,
   "metadata": {},
   "outputs": [
    {
     "name": "stdout",
     "output_type": "stream",
     "text": [
      "scores: [0.81395349 0.81395349 0.84883721 0.8255814  0.86046512 0.81395349\n",
      " 0.76744186 0.77906977 0.84705882 0.83529412]\n",
      "Accuracy: 0.821 (0.028)\n"
     ]
    }
   ],
   "source": [
    "#7\n",
    "X = uni_num_pos#data\n",
    "y = jhj_emoji_labels#target\n",
    "\n",
    "kf = KFold(n_splits=10, random_state=1, shuffle=True)\n",
    "\n",
    "# create model\n",
    "model = LogisticRegression(class_weight='balanced')\n",
    "\n",
    "# evaluate model\n",
    "scores = cross_val_score(model, X, y, scoring='accuracy', cv=kf, n_jobs=-1)\n",
    "print(\"scores:\", scores)\n",
    "\n",
    "# report performance\n",
    "print('Accuracy: %.3f (%.3f)' % (mean(scores), std(scores)))"
   ]
  },
  {
   "cell_type": "code",
   "execution_count": 85,
   "metadata": {},
   "outputs": [
    {
     "name": "stdout",
     "output_type": "stream",
     "text": [
      "scores: [0.77906977 0.69767442 0.8255814  0.77906977 0.84883721 0.77906977\n",
      " 0.84883721 0.77906977 0.83529412 0.84705882]\n",
      "Accuracy: 0.802 (0.046)\n"
     ]
    }
   ],
   "source": [
    "#8\n",
    "X = bi_pos_new#data\n",
    "y = jhj_emoji_labels#target\n",
    "\n",
    "kf = KFold(n_splits=10, random_state=1, shuffle=True)\n",
    "\n",
    "# create model\n",
    "model = LogisticRegression(class_weight='balanced')\n",
    "\n",
    "# evaluate model\n",
    "scores = cross_val_score(model, X, y, scoring='accuracy', cv=kf, n_jobs=-1)\n",
    "print(\"scores:\", scores)\n",
    "\n",
    "# report performance\n",
    "print('Accuracy: %.3f (%.3f)' % (mean(scores), std(scores)))"
   ]
  },
  {
   "cell_type": "code",
   "execution_count": 86,
   "metadata": {},
   "outputs": [
    {
     "name": "stdout",
     "output_type": "stream",
     "text": [
      "scores: [0.76744186 0.76744186 0.80232558 0.75581395 0.87209302 0.77906977\n",
      " 0.76744186 0.76744186 0.85882353 0.84705882]\n",
      "Accuracy: 0.798 (0.042)\n"
     ]
    }
   ],
   "source": [
    "#9\n",
    "X = bi_num#data\n",
    "y = jhj_emoji_labels#target\n",
    "\n",
    "kf = KFold(n_splits=10, random_state=1, shuffle=True)\n",
    "\n",
    "# create model\n",
    "model = LogisticRegression(class_weight='balanced')\n",
    "\n",
    "# evaluate model\n",
    "scores = cross_val_score(model, X, y, scoring='accuracy', cv=kf, n_jobs=-1)\n",
    "print(\"scores:\", scores)\n",
    "\n",
    "# report performance\n",
    "print('Accuracy: %.3f (%.3f)' % (mean(scores), std(scores)))"
   ]
  },
  {
   "cell_type": "code",
   "execution_count": 87,
   "metadata": {},
   "outputs": [
    {
     "name": "stdout",
     "output_type": "stream",
     "text": [
      "scores: [0.81395349 0.73255814 0.8372093  0.76744186 0.84883721 0.79069767\n",
      " 0.77906977 0.73255814 0.82352941 0.81176471]\n",
      "Accuracy: 0.794 (0.039)\n"
     ]
    }
   ],
   "source": [
    "#10\n",
    "X = bi_num_pos#data\n",
    "y = jhj_emoji_labels#target\n",
    "\n",
    "kf = KFold(n_splits=10, random_state=1, shuffle=True)\n",
    "\n",
    "# create model\n",
    "model = LogisticRegression(class_weight='balanced')\n",
    "\n",
    "# evaluate model\n",
    "scores = cross_val_score(model, X, y, scoring='accuracy', cv=kf, n_jobs=-1)\n",
    "print(\"scores:\", scores)\n",
    "\n",
    "# report performance\n",
    "print('Accuracy: %.3f (%.3f)' % (mean(scores), std(scores)))"
   ]
  },
  {
   "cell_type": "code",
   "execution_count": 145,
   "metadata": {},
   "outputs": [
    {
     "name": "stdout",
     "output_type": "stream",
     "text": [
      "scores: [0.84883721 0.72093023 0.87209302 0.76744186 0.81395349 0.80232558\n",
      " 0.80232558 0.80232558 0.87058824 0.83529412]\n",
      "Accuracy: 0.814 (0.044)\n"
     ]
    }
   ],
   "source": [
    "#11\n",
    "X = tfidf_pos_new#data\n",
    "y = jhj_emoji_labels#target\n",
    "\n",
    "kf = KFold(n_splits=10, random_state=1, shuffle=True)\n",
    "\n",
    "# create model\n",
    "model = LogisticRegression(class_weight='balanced')\n",
    "\n",
    "# evaluate model\n",
    "scores = cross_val_score(model, X, y, scoring='accuracy', cv=kf, n_jobs=-1)\n",
    "print(\"scores:\", scores)\n",
    "\n",
    "# report performance\n",
    "print('Accuracy: %.3f (%.3f)' % (mean(scores), std(scores)))"
   ]
  },
  {
   "cell_type": "code",
   "execution_count": 89,
   "metadata": {},
   "outputs": [
    {
     "name": "stdout",
     "output_type": "stream",
     "text": [
      "scores: [0.8255814  0.81395349 0.81395349 0.79069767 0.8372093  0.80232558\n",
      " 0.74418605 0.76744186 0.81176471 0.78823529]\n",
      "Accuracy: 0.800 (0.026)\n"
     ]
    }
   ],
   "source": [
    "#12\n",
    "X = tfidf_num#data\n",
    "y = jhj_emoji_labels#target\n",
    "\n",
    "kf = KFold(n_splits=10, random_state=1, shuffle=True)\n",
    "\n",
    "# create model\n",
    "model = LogisticRegression(class_weight='balanced')\n",
    "\n",
    "# evaluate model\n",
    "scores = cross_val_score(model, X, y, scoring='accuracy', cv=kf, n_jobs=-1)\n",
    "print(\"scores:\", scores)\n",
    "\n",
    "# report performance\n",
    "print('Accuracy: %.3f (%.3f)' % (mean(scores), std(scores)))"
   ]
  },
  {
   "cell_type": "code",
   "execution_count": 90,
   "metadata": {},
   "outputs": [
    {
     "name": "stdout",
     "output_type": "stream",
     "text": [
      "scores: [0.84883721 0.76744186 0.84883721 0.76744186 0.8255814  0.79069767\n",
      " 0.69767442 0.76744186 0.83529412 0.81176471]\n",
      "Accuracy: 0.796 (0.045)\n"
     ]
    }
   ],
   "source": [
    "#13\n",
    "X = tfidf_num_pos#data\n",
    "y = jhj_emoji_labels#target\n",
    "\n",
    "kf = KFold(n_splits=10, random_state=1, shuffle=True)\n",
    "\n",
    "# create model\n",
    "model = LogisticRegression(class_weight='balanced')\n",
    "\n",
    "# evaluate model\n",
    "scores = cross_val_score(model, X, y, scoring='accuracy', cv=kf, n_jobs=-1)\n",
    "print(\"scores:\", scores)\n",
    "\n",
    "# report performance\n",
    "print('Accuracy: %.3f (%.3f)' % (mean(scores), std(scores)))"
   ]
  },
  {
   "cell_type": "code",
   "execution_count": 91,
   "metadata": {},
   "outputs": [
    {
     "name": "stdout",
     "output_type": "stream",
     "text": [
      "scores: [0.8372093  0.75581395 0.80232558 0.76744186 0.80232558 0.80232558\n",
      " 0.77906977 0.84883721 0.84705882 0.87058824]\n",
      "Accuracy: 0.811 (0.036)\n"
     ]
    }
   ],
   "source": [
    "#14\n",
    "X = wordvec_pos#data\n",
    "y = jhj_emoji_labels#target\n",
    "\n",
    "kf = KFold(n_splits=10, random_state=1, shuffle=True)\n",
    "\n",
    "# create model\n",
    "model = LogisticRegression(class_weight='balanced')\n",
    "\n",
    "# evaluate model\n",
    "scores = cross_val_score(model, X, y, scoring='accuracy', cv=kf, n_jobs=-1)\n",
    "print(\"scores:\", scores)\n",
    "\n",
    "# report performance\n",
    "print('Accuracy: %.3f (%.3f)' % (mean(scores), std(scores)))"
   ]
  },
  {
   "cell_type": "code",
   "execution_count": 93,
   "metadata": {},
   "outputs": [
    {
     "name": "stdout",
     "output_type": "stream",
     "text": [
      "scores: [0.81395349 0.74418605 0.79069767 0.74418605 0.81395349 0.79069767\n",
      " 0.77906977 0.84883721 0.84705882 0.83529412]\n",
      "Accuracy: 0.801 (0.036)\n"
     ]
    }
   ],
   "source": [
    "#15\n",
    "X = wordvec_num#data\n",
    "y = jhj_emoji_labels#target\n",
    "\n",
    "kf = KFold(n_splits=10, random_state=1, shuffle=True)\n",
    "\n",
    "# create model\n",
    "model = LogisticRegression(class_weight='balanced')\n",
    "\n",
    "# evaluate model\n",
    "scores = cross_val_score(model, X, y, scoring='accuracy', cv=kf, n_jobs=-1)\n",
    "print(\"scores:\", scores)\n",
    "\n",
    "# report performance\n",
    "print('Accuracy: %.3f (%.3f)' % (mean(scores), std(scores)))"
   ]
  },
  {
   "cell_type": "code",
   "execution_count": 94,
   "metadata": {},
   "outputs": [
    {
     "name": "stdout",
     "output_type": "stream",
     "text": [
      "scores: [0.79069767 0.73255814 0.80232558 0.74418605 0.80232558 0.79069767\n",
      " 0.76744186 0.8372093  0.83529412 0.83529412]\n",
      "Accuracy: 0.794 (0.035)\n"
     ]
    }
   ],
   "source": [
    "#16\n",
    "X = wordvec_num_pos#data\n",
    "y = jhj_emoji_labels#target\n",
    "\n",
    "kf = KFold(n_splits=10, random_state=1, shuffle=True)\n",
    "\n",
    "# create model\n",
    "model = LogisticRegression(class_weight='balanced')\n",
    "\n",
    "# evaluate model\n",
    "scores = cross_val_score(model, X, y, scoring='accuracy', cv=kf, n_jobs=-1)\n",
    "print(\"scores:\", scores)\n",
    "\n",
    "# report performance\n",
    "print('Accuracy: %.3f (%.3f)' % (mean(scores), std(scores)))"
   ]
  },
  {
   "cell_type": "code",
   "execution_count": 95,
   "metadata": {},
   "outputs": [
    {
     "name": "stdout",
     "output_type": "stream",
     "text": [
      "scores: [0.8255814  0.80232558 0.8372093  0.8372093  0.8372093  0.86046512\n",
      " 0.81395349 0.81395349 0.83529412 0.84705882]\n",
      "Accuracy: 0.831 (0.016)\n"
     ]
    }
   ],
   "source": [
    "#17\n",
    "X = docvec_pos#data\n",
    "y = jhj_emoji_labels#target\n",
    "\n",
    "kf = KFold(n_splits=10, random_state=1, shuffle=True)\n",
    "\n",
    "# create model\n",
    "model = LogisticRegression(class_weight='balanced')\n",
    "\n",
    "# evaluate model\n",
    "scores = cross_val_score(model, X, y, scoring='accuracy', cv=kf, n_jobs=-1)\n",
    "print(\"scores:\", scores)\n",
    "\n",
    "# report performance\n",
    "print('Accuracy: %.3f (%.3f)' % (mean(scores), std(scores)))"
   ]
  },
  {
   "cell_type": "code",
   "execution_count": 20,
   "metadata": {},
   "outputs": [
    {
     "name": "stdout",
     "output_type": "stream",
     "text": [
      "scores: [0.8255814  0.81395349 0.8255814  0.84883721 0.84883721 0.88372093\n",
      " 0.77906977 0.81395349 0.85882353 0.83529412]\n",
      "Accuracy: 0.833 (0.027)\n"
     ]
    }
   ],
   "source": [
    "#18\n",
    "X = docvec_num#data\n",
    "y = jhj_emoji_labels#target\n",
    "\n",
    "kf = KFold(n_splits=10, random_state=1, shuffle=True)\n",
    "\n",
    "# create model\n",
    "model = LogisticRegression(class_weight='balanced')\n",
    "\n",
    "# evaluate model\n",
    "scores = cross_val_score(model, X, y, scoring='accuracy', cv=kf, n_jobs=-1)\n",
    "print(\"scores:\", scores)\n",
    "\n",
    "# report performance\n",
    "print('Accuracy: %.3f (%.3f)' % (mean(scores), std(scores)))"
   ]
  },
  {
   "cell_type": "code",
   "execution_count": 97,
   "metadata": {},
   "outputs": [
    {
     "name": "stdout",
     "output_type": "stream",
     "text": [
      "scores: [0.8255814  0.79069767 0.8255814  0.84883721 0.8255814  0.88372093\n",
      " 0.80232558 0.8255814  0.85882353 0.83529412]\n",
      "Accuracy: 0.832 (0.025)\n"
     ]
    }
   ],
   "source": [
    "#19\n",
    "X = docvec_num_pos#data\n",
    "y = jhj_emoji_labels#target\n",
    "\n",
    "kf = KFold(n_splits=10, random_state=1, shuffle=True)\n",
    "\n",
    "# create model\n",
    "model = LogisticRegression(class_weight='balanced')\n",
    "\n",
    "# evaluate model\n",
    "scores = cross_val_score(model, X, y, scoring='accuracy', cv=kf, n_jobs=-1)\n",
    "print(\"scores:\", scores)\n",
    "\n",
    "# report performance\n",
    "print('Accuracy: %.3f (%.3f)' % (mean(scores), std(scores)))"
   ]
  },
  {
   "cell_type": "code",
   "execution_count": 98,
   "metadata": {},
   "outputs": [
    {
     "name": "stdout",
     "output_type": "stream",
     "text": [
      "scores: [0.69767442 0.63953488 0.6744186  0.63953488 0.63953488 0.65116279\n",
      " 0.56976744 0.58139535 0.67058824 0.54117647]\n",
      "Accuracy: 0.630 (0.048)\n"
     ]
    }
   ],
   "source": [
    "#20\n",
    "X = pos_num#data\n",
    "y = jhj_emoji_labels#target\n",
    "\n",
    "kf = KFold(n_splits=10, random_state=1, shuffle=True)\n",
    "\n",
    "# create model\n",
    "model = LogisticRegression(class_weight='balanced')\n",
    "\n",
    "# evaluate model\n",
    "scores = cross_val_score(model, X, y, scoring='accuracy', cv=kf, n_jobs=-1)\n",
    "print(\"scores:\", scores)\n",
    "\n",
    "# report performance\n",
    "print('Accuracy: %.3f (%.3f)' % (mean(scores), std(scores)))"
   ]
  },
  {
   "cell_type": "code",
   "execution_count": 99,
   "metadata": {},
   "outputs": [
    {
     "name": "stdout",
     "output_type": "stream",
     "text": [
      "scores: [0.8372093  0.75581395 0.80232558 0.76744186 0.81395349 0.8255814\n",
      " 0.76744186 0.8372093  0.85882353 0.83529412]\n",
      "Accuracy: 0.810 (0.034)\n"
     ]
    }
   ],
   "source": [
    "#21\n",
    "X = all_features#data\n",
    "y = jhj_emoji_labels#target\n",
    "\n",
    "kf = KFold(n_splits=10, random_state=1, shuffle=True)\n",
    "\n",
    "# create model\n",
    "model = LogisticRegression(class_weight='balanced')\n",
    "\n",
    "# evaluate model\n",
    "scores = cross_val_score(model, X, y, scoring='accuracy', cv=kf, n_jobs=-1)\n",
    "print(\"scores:\", scores)\n",
    "\n",
    "# report performance\n",
    "print('Accuracy: %.3f (%.3f)' % (mean(scores), std(scores)))"
   ]
  },
  {
   "cell_type": "code",
   "execution_count": 100,
   "metadata": {},
   "outputs": [],
   "source": [
    "##############naive bayes##############"
   ]
  },
  {
   "cell_type": "code",
   "execution_count": 21,
   "metadata": {},
   "outputs": [],
   "source": [
    "from sklearn.naive_bayes import GaussianNB"
   ]
  },
  {
   "cell_type": "code",
   "execution_count": 103,
   "metadata": {},
   "outputs": [
    {
     "name": "stdout",
     "output_type": "stream",
     "text": [
      "scores: [0.74418605 0.62790698 0.68604651 0.65116279 0.65116279 0.6627907\n",
      " 0.69767442 0.6627907  0.72941176 0.69411765]\n",
      "Accuracy: 0.681 (0.035)\n"
     ]
    }
   ],
   "source": [
    "\n",
    "X = unigram_feature_vector#data\n",
    "y = jhj_emoji_labels#target\n",
    "\n",
    "kf = KFold(n_splits=10, random_state=1, shuffle=True)\n",
    "\n",
    "# create model\n",
    "model = GaussianNB()\n",
    "\n",
    "# evaluate model\n",
    "scores = cross_val_score(model, X, y, scoring='accuracy', cv=kf, n_jobs=-1)\n",
    "print(\"scores:\", scores)\n",
    "\n",
    "# report performance\n",
    "print('Accuracy: %.3f (%.3f)' % (mean(scores), std(scores)))"
   ]
  },
  {
   "cell_type": "code",
   "execution_count": 105,
   "metadata": {},
   "outputs": [
    {
     "name": "stdout",
     "output_type": "stream",
     "text": [
      "scores: [0.6744186  0.69767442 0.70930233 0.6744186  0.60465116 0.61627907\n",
      " 0.63953488 0.68604651 0.6        0.64705882]\n",
      "Accuracy: 0.655 (0.037)\n"
     ]
    }
   ],
   "source": [
    "\n",
    "X = bigram_feature_vector#data\n",
    "y = jhj_emoji_labels#target\n",
    "\n",
    "kf = KFold(n_splits=10, random_state=1, shuffle=True)\n",
    "\n",
    "# create model\n",
    "model = GaussianNB()\n",
    "\n",
    "# evaluate model\n",
    "scores = cross_val_score(model, X, y, scoring='accuracy', cv=kf, n_jobs=-1)\n",
    "print(\"scores:\", scores)\n",
    "\n",
    "# report performance\n",
    "print('Accuracy: %.3f (%.3f)' % (mean(scores), std(scores)))"
   ]
  },
  {
   "cell_type": "code",
   "execution_count": 107,
   "metadata": {},
   "outputs": [
    {
     "name": "stdout",
     "output_type": "stream",
     "text": [
      "scores: [0.36046512 0.37209302 0.43023256 0.44186047 0.36046512 0.44186047\n",
      " 0.34883721 0.41860465 0.34117647 0.4       ]\n",
      "Accuracy: 0.392 (0.037)\n"
     ]
    }
   ],
   "source": [
    "\n",
    "X = trigram_feature_vector#data\n",
    "y = jhj_emoji_labels#target\n",
    "\n",
    "kf = KFold(n_splits=10, random_state=1, shuffle=True)\n",
    "\n",
    "# create model\n",
    "model = GaussianNB()\n",
    "\n",
    "# evaluate model\n",
    "scores = cross_val_score(model, X, y, scoring='accuracy', cv=kf, n_jobs=-1)\n",
    "print(\"scores:\", scores)\n",
    "\n",
    "# report performance\n",
    "print('Accuracy: %.3f (%.3f)' % (mean(scores), std(scores)))"
   ]
  },
  {
   "cell_type": "code",
   "execution_count": 108,
   "metadata": {},
   "outputs": [
    {
     "name": "stdout",
     "output_type": "stream",
     "text": [
      "scores: [0.74418605 0.62790698 0.68604651 0.65116279 0.65116279 0.65116279\n",
      " 0.70930233 0.6744186  0.72941176 0.70588235]\n",
      "Accuracy: 0.683 (0.036)\n"
     ]
    }
   ],
   "source": [
    "\n",
    "X = tfidf#data\n",
    "y = jhj_emoji_labels#target\n",
    "\n",
    "kf = KFold(n_splits=10, random_state=1, shuffle=True)\n",
    "\n",
    "# create model\n",
    "model = GaussianNB()\n",
    "\n",
    "# evaluate model\n",
    "scores = cross_val_score(model, X, y, scoring='accuracy', cv=kf, n_jobs=-1)\n",
    "print(\"scores:\", scores)\n",
    "\n",
    "# report performance\n",
    "print('Accuracy: %.3f (%.3f)' % (mean(scores), std(scores)))"
   ]
  },
  {
   "cell_type": "code",
   "execution_count": 114,
   "metadata": {},
   "outputs": [
    {
     "name": "stdout",
     "output_type": "stream",
     "text": [
      "scores: [0.72093023 0.75581395 0.75581395 0.6627907  0.73255814 0.73255814\n",
      " 0.74418605 0.69767442 0.78823529 0.75294118]\n",
      "Accuracy: 0.734 (0.033)\n"
     ]
    }
   ],
   "source": [
    "X = post_sent_punct#data\n",
    "y = jhj_emoji_labels#target\n",
    "\n",
    "kf = KFold(n_splits=10, random_state=1, shuffle=True)\n",
    "\n",
    "# create model\n",
    "model = GaussianNB()\n",
    "\n",
    "# evaluate model\n",
    "scores = cross_val_score(model, X, y, scoring='accuracy', cv=kf, n_jobs=-1)\n",
    "print(\"scores:\", scores)\n",
    "\n",
    "# report performance\n",
    "print('Accuracy: %.3f (%.3f)' % (mean(scores), std(scores)))"
   ]
  },
  {
   "cell_type": "code",
   "execution_count": 115,
   "metadata": {},
   "outputs": [
    {
     "name": "stdout",
     "output_type": "stream",
     "text": [
      "scores: [0.62790698 0.65116279 0.73255814 0.61627907 0.6627907  0.58139535\n",
      " 0.62790698 0.61627907 0.68235294 0.75294118]\n",
      "Accuracy: 0.655 (0.051)\n"
     ]
    }
   ],
   "source": [
    "X = pos#data\n",
    "y = jhj_emoji_labels#target\n",
    "\n",
    "kf = KFold(n_splits=10, random_state=1, shuffle=True)\n",
    "\n",
    "# create model\n",
    "model = GaussianNB()\n",
    "\n",
    "# evaluate model\n",
    "scores = cross_val_score(model, X, y, scoring='accuracy', cv=kf, n_jobs=-1)\n",
    "print(\"scores:\", scores)\n",
    "\n",
    "# report performance\n",
    "print('Accuracy: %.3f (%.3f)' % (mean(scores), std(scores)))"
   ]
  },
  {
   "cell_type": "code",
   "execution_count": 116,
   "metadata": {},
   "outputs": [
    {
     "name": "stdout",
     "output_type": "stream",
     "text": [
      "scores: [0.34883721 0.30232558 0.29069767 0.37209302 0.27906977 0.3255814\n",
      " 0.31395349 0.39534884 0.28235294 0.74117647]\n",
      "Accuracy: 0.365 (0.131)\n"
     ]
    }
   ],
   "source": [
    "X = nodoc#data\n",
    "y = jhj_emoji_labels#target\n",
    "\n",
    "kf = KFold(n_splits=10, random_state=1, shuffle=True)\n",
    "\n",
    "# create model\n",
    "model = GaussianNB()\n",
    "\n",
    "# evaluate model\n",
    "scores = cross_val_score(model, X, y, scoring='accuracy', cv=kf, n_jobs=-1)\n",
    "print(\"scores:\", scores)\n",
    "\n",
    "# report performance\n",
    "print('Accuracy: %.3f (%.3f)' % (mean(scores), std(scores)))"
   ]
  },
  {
   "cell_type": "code",
   "execution_count": 117,
   "metadata": {},
   "outputs": [
    {
     "name": "stdout",
     "output_type": "stream",
     "text": [
      "scores: [0.86046512 0.6627907  0.75581395 0.84883721 0.79069767 0.8255814\n",
      " 0.79069767 0.73255814 0.83529412 0.8       ]\n",
      "Accuracy: 0.790 (0.057)\n"
     ]
    }
   ],
   "source": [
    "##nice\n",
    "X = word_vector_feature#data\n",
    "y = jhj_emoji_labels#target\n",
    "\n",
    "kf = KFold(n_splits=10, random_state=1, shuffle=True)\n",
    "\n",
    "# create model\n",
    "model = GaussianNB()\n",
    "\n",
    "# evaluate model\n",
    "scores = cross_val_score(model, X, y, scoring='accuracy', cv=kf, n_jobs=-1)\n",
    "print(\"scores:\", scores)\n",
    "\n",
    "# report performance\n",
    "print('Accuracy: %.3f (%.3f)' % (mean(scores), std(scores)))"
   ]
  },
  {
   "cell_type": "code",
   "execution_count": 113,
   "metadata": {},
   "outputs": [],
   "source": [
    "##combinations##"
   ]
  },
  {
   "cell_type": "code",
   "execution_count": 118,
   "metadata": {},
   "outputs": [
    {
     "name": "stdout",
     "output_type": "stream",
     "text": [
      "scores: [0.76744186 0.74418605 0.74418605 0.74418605 0.68604651 0.68604651\n",
      " 0.81395349 0.70930233 0.76470588 0.74117647]\n",
      "Accuracy: 0.740 (0.037)\n"
     ]
    }
   ],
   "source": [
    "#2\n",
    "X = unigram_bi_feature_vector#data\n",
    "y = jhj_emoji_labels#target\n",
    "\n",
    "kf = KFold(n_splits=10, random_state=1, shuffle=True)\n",
    "\n",
    "model = GaussianNB()\n",
    "\n",
    "# evaluate model\n",
    "scores = cross_val_score(model, X, y, scoring='accuracy', cv=kf, n_jobs=-1)\n",
    "print(\"scores:\", scores)\n",
    "\n",
    "# report performance\n",
    "print('Accuracy: %.3f (%.3f)' % (mean(scores), std(scores)))"
   ]
  },
  {
   "cell_type": "code",
   "execution_count": 119,
   "metadata": {},
   "outputs": [
    {
     "name": "stdout",
     "output_type": "stream",
     "text": [
      "scores: [0.79069767 0.75581395 0.75581395 0.73255814 0.72093023 0.69767442\n",
      " 0.81395349 0.69767442 0.76470588 0.72941176]\n",
      "Accuracy: 0.746 (0.036)\n"
     ]
    }
   ],
   "source": [
    "#3\n",
    "X = uni_bi_tri_feat_vec#data\n",
    "y = jhj_emoji_labels#target\n",
    "\n",
    "kf = KFold(n_splits=10, random_state=1, shuffle=True)\n",
    "\n",
    "# create model\n",
    "model = GaussianNB()\n",
    "\n",
    "# evaluate model\n",
    "scores = cross_val_score(model, X, y, scoring='accuracy', cv=kf, n_jobs=-1)\n",
    "print(\"scores:\", scores)\n",
    "\n",
    "# report performance\n",
    "print('Accuracy: %.3f (%.3f)' % (mean(scores), std(scores)))"
   ]
  },
  {
   "cell_type": "code",
   "execution_count": 120,
   "metadata": {},
   "outputs": [
    {
     "name": "stdout",
     "output_type": "stream",
     "text": [
      "scores: [0.76744186 0.70930233 0.73255814 0.70930233 0.70930233 0.65116279\n",
      " 0.75581395 0.72093023 0.75294118 0.74117647]\n",
      "Accuracy: 0.725 (0.032)\n"
     ]
    }
   ],
   "source": [
    "#4\n",
    "X = tfidf_bigram#data\n",
    "y = jhj_emoji_labels#target\n",
    "\n",
    "kf = KFold(n_splits=10, random_state=1, shuffle=True)\n",
    "\n",
    "# create model\n",
    "model = GaussianNB()\n",
    "\n",
    "# evaluate model\n",
    "scores = cross_val_score(model, X, y, scoring='accuracy', cv=kf, n_jobs=-1)\n",
    "print(\"scores:\", scores)\n",
    "\n",
    "# report performance\n",
    "print('Accuracy: %.3f (%.3f)' % (mean(scores), std(scores)))"
   ]
  },
  {
   "cell_type": "code",
   "execution_count": 121,
   "metadata": {},
   "outputs": [
    {
     "name": "stdout",
     "output_type": "stream",
     "text": [
      "scores: [0.74418605 0.62790698 0.68604651 0.65116279 0.65116279 0.6627907\n",
      " 0.69767442 0.6627907  0.72941176 0.69411765]\n",
      "Accuracy: 0.681 (0.035)\n"
     ]
    }
   ],
   "source": [
    "#5\n",
    "X = uni_pos_new#data\n",
    "y = jhj_emoji_labels#target\n",
    "\n",
    "kf = KFold(n_splits=10, random_state=1, shuffle=True)\n",
    "\n",
    "# create model\n",
    "model = GaussianNB()\n",
    "\n",
    "# evaluate model\n",
    "scores = cross_val_score(model, X, y, scoring='accuracy', cv=kf, n_jobs=-1)\n",
    "print(\"scores:\", scores)\n",
    "\n",
    "# report performance\n",
    "print('Accuracy: %.3f (%.3f)' % (mean(scores), std(scores)))"
   ]
  },
  {
   "cell_type": "code",
   "execution_count": 122,
   "metadata": {},
   "outputs": [
    {
     "name": "stdout",
     "output_type": "stream",
     "text": [
      "scores: [0.74418605 0.62790698 0.68604651 0.65116279 0.65116279 0.6627907\n",
      " 0.69767442 0.6627907  0.72941176 0.69411765]\n",
      "Accuracy: 0.681 (0.035)\n"
     ]
    }
   ],
   "source": [
    "#6\n",
    "X = uni_num#data\n",
    "y = jhj_emoji_labels#target\n",
    "\n",
    "kf = KFold(n_splits=10, random_state=1, shuffle=True)\n",
    "\n",
    "# create model\n",
    "model = GaussianNB()\n",
    "\n",
    "# evaluate model\n",
    "scores = cross_val_score(model, X, y, scoring='accuracy', cv=kf, n_jobs=-1)\n",
    "print(\"scores:\", scores)\n",
    "\n",
    "# report performance\n",
    "print('Accuracy: %.3f (%.3f)' % (mean(scores), std(scores)))"
   ]
  },
  {
   "cell_type": "code",
   "execution_count": 123,
   "metadata": {},
   "outputs": [
    {
     "name": "stdout",
     "output_type": "stream",
     "text": [
      "scores: [0.74418605 0.62790698 0.68604651 0.65116279 0.65116279 0.6627907\n",
      " 0.69767442 0.6627907  0.72941176 0.69411765]\n",
      "Accuracy: 0.681 (0.035)\n"
     ]
    }
   ],
   "source": [
    "#7\n",
    "X = uni_num_pos#data\n",
    "y = jhj_emoji_labels#target\n",
    "\n",
    "kf = KFold(n_splits=10, random_state=1, shuffle=True)\n",
    "\n",
    "# create model\n",
    "model = GaussianNB()\n",
    "\n",
    "# evaluate model\n",
    "scores = cross_val_score(model, X, y, scoring='accuracy', cv=kf, n_jobs=-1)\n",
    "print(\"scores:\", scores)\n",
    "\n",
    "# report performance\n",
    "print('Accuracy: %.3f (%.3f)' % (mean(scores), std(scores)))"
   ]
  },
  {
   "cell_type": "code",
   "execution_count": 124,
   "metadata": {},
   "outputs": [
    {
     "name": "stdout",
     "output_type": "stream",
     "text": [
      "scores: [0.6744186  0.69767442 0.70930233 0.6744186  0.60465116 0.61627907\n",
      " 0.63953488 0.68604651 0.6        0.64705882]\n",
      "Accuracy: 0.655 (0.037)\n"
     ]
    }
   ],
   "source": [
    "#8\n",
    "X = bi_pos_new#data\n",
    "y = jhj_emoji_labels#target\n",
    "\n",
    "kf = KFold(n_splits=10, random_state=1, shuffle=True)\n",
    "\n",
    "# create model\n",
    "model = GaussianNB()\n",
    "\n",
    "# evaluate model\n",
    "scores = cross_val_score(model, X, y, scoring='accuracy', cv=kf, n_jobs=-1)\n",
    "print(\"scores:\", scores)\n",
    "\n",
    "# report performance\n",
    "print('Accuracy: %.3f (%.3f)' % (mean(scores), std(scores)))"
   ]
  },
  {
   "cell_type": "code",
   "execution_count": 125,
   "metadata": {},
   "outputs": [
    {
     "name": "stdout",
     "output_type": "stream",
     "text": [
      "scores: [0.6744186  0.69767442 0.70930233 0.6744186  0.60465116 0.61627907\n",
      " 0.63953488 0.68604651 0.6        0.64705882]\n",
      "Accuracy: 0.655 (0.037)\n"
     ]
    }
   ],
   "source": [
    "#9\n",
    "X = bi_num#data\n",
    "y = jhj_emoji_labels#target\n",
    "\n",
    "kf = KFold(n_splits=10, random_state=1, shuffle=True)\n",
    "\n",
    "# create model\n",
    "model = GaussianNB()\n",
    "\n",
    "# evaluate model\n",
    "scores = cross_val_score(model, X, y, scoring='accuracy', cv=kf, n_jobs=-1)\n",
    "print(\"scores:\", scores)\n",
    "\n",
    "# report performance\n",
    "print('Accuracy: %.3f (%.3f)' % (mean(scores), std(scores)))"
   ]
  },
  {
   "cell_type": "code",
   "execution_count": 131,
   "metadata": {},
   "outputs": [
    {
     "name": "stdout",
     "output_type": "stream",
     "text": [
      "scores: [0.6744186  0.69767442 0.70930233 0.6744186  0.60465116 0.61627907\n",
      " 0.63953488 0.68604651 0.6        0.64705882]\n",
      "Accuracy: 0.655 (0.037)\n"
     ]
    }
   ],
   "source": [
    "#10\n",
    "X = bi_num_pos#data\n",
    "y = jhj_emoji_labels#target\n",
    "\n",
    "kf = KFold(n_splits=10, random_state=1, shuffle=True)\n",
    "\n",
    "# create model\n",
    "model = GaussianNB()\n",
    "\n",
    "# evaluate model\n",
    "scores = cross_val_score(model, X, y, scoring='accuracy', cv=kf, n_jobs=-1)\n",
    "print(\"scores:\", scores)\n",
    "\n",
    "# report performance\n",
    "print('Accuracy: %.3f (%.3f)' % (mean(scores), std(scores)))"
   ]
  },
  {
   "cell_type": "code",
   "execution_count": 146,
   "metadata": {},
   "outputs": [
    {
     "name": "stdout",
     "output_type": "stream",
     "text": [
      "scores: [0.74418605 0.62790698 0.68604651 0.65116279 0.65116279 0.65116279\n",
      " 0.70930233 0.6744186  0.72941176 0.70588235]\n",
      "Accuracy: 0.683 (0.036)\n"
     ]
    }
   ],
   "source": [
    "#11\n",
    "X = tfidf_pos_new#data\n",
    "y = jhj_emoji_labels#target\n",
    "\n",
    "kf = KFold(n_splits=10, random_state=1, shuffle=True)\n",
    "\n",
    "# create model\n",
    "model = GaussianNB()\n",
    "\n",
    "# evaluate model\n",
    "scores = cross_val_score(model, X, y, scoring='accuracy', cv=kf, n_jobs=-1)\n",
    "print(\"scores:\", scores)\n",
    "\n",
    "# report performance\n",
    "print('Accuracy: %.3f (%.3f)' % (mean(scores), std(scores)))"
   ]
  },
  {
   "cell_type": "code",
   "execution_count": 133,
   "metadata": {},
   "outputs": [
    {
     "name": "stdout",
     "output_type": "stream",
     "text": [
      "scores: [0.74418605 0.62790698 0.68604651 0.65116279 0.65116279 0.65116279\n",
      " 0.70930233 0.6744186  0.72941176 0.70588235]\n",
      "Accuracy: 0.683 (0.036)\n"
     ]
    }
   ],
   "source": [
    "#12\n",
    "X = tfidf_num#data\n",
    "y = jhj_emoji_labels#target\n",
    "\n",
    "kf = KFold(n_splits=10, random_state=1, shuffle=True)\n",
    "\n",
    "# create model\n",
    "model = GaussianNB()\n",
    "\n",
    "# evaluate model\n",
    "scores = cross_val_score(model, X, y, scoring='accuracy', cv=kf, n_jobs=-1)\n",
    "print(\"scores:\", scores)\n",
    "\n",
    "# report performance\n",
    "print('Accuracy: %.3f (%.3f)' % (mean(scores), std(scores)))"
   ]
  },
  {
   "cell_type": "code",
   "execution_count": 135,
   "metadata": {},
   "outputs": [
    {
     "name": "stdout",
     "output_type": "stream",
     "text": [
      "scores: [0.74418605 0.62790698 0.68604651 0.65116279 0.65116279 0.65116279\n",
      " 0.70930233 0.6744186  0.72941176 0.70588235]\n",
      "Accuracy: 0.683 (0.036)\n"
     ]
    }
   ],
   "source": [
    "#13\n",
    "X = tfidf_num_pos#data\n",
    "y = jhj_emoji_labels#target\n",
    "\n",
    "kf = KFold(n_splits=10, random_state=1, shuffle=True)\n",
    "\n",
    "# create model\n",
    "model = GaussianNB()\n",
    "\n",
    "# evaluate model\n",
    "scores = cross_val_score(model, X, y, scoring='accuracy', cv=kf, n_jobs=-1)\n",
    "print(\"scores:\", scores)\n",
    "\n",
    "# report performance\n",
    "print('Accuracy: %.3f (%.3f)' % (mean(scores), std(scores)))"
   ]
  },
  {
   "cell_type": "code",
   "execution_count": 136,
   "metadata": {},
   "outputs": [
    {
     "name": "stdout",
     "output_type": "stream",
     "text": [
      "scores: [0.34883721 0.30232558 0.29069767 0.37209302 0.27906977 0.3255814\n",
      " 0.31395349 0.39534884 0.28235294 0.74117647]\n",
      "Accuracy: 0.365 (0.131)\n"
     ]
    }
   ],
   "source": [
    "#14\n",
    "X = wordvec_pos#data\n",
    "y = jhj_emoji_labels#target\n",
    "\n",
    "kf = KFold(n_splits=10, random_state=1, shuffle=True)\n",
    "\n",
    "# create model\n",
    "model = GaussianNB()\n",
    "\n",
    "# evaluate model\n",
    "scores = cross_val_score(model, X, y, scoring='accuracy', cv=kf, n_jobs=-1)\n",
    "print(\"scores:\", scores)\n",
    "\n",
    "# report performance\n",
    "print('Accuracy: %.3f (%.3f)' % (mean(scores), std(scores)))"
   ]
  },
  {
   "cell_type": "code",
   "execution_count": 137,
   "metadata": {},
   "outputs": [
    {
     "name": "stdout",
     "output_type": "stream",
     "text": [
      "scores: [0.34883721 0.30232558 0.29069767 0.38372093 0.27906977 0.3372093\n",
      " 0.30232558 0.41860465 0.27058824 0.74117647]\n",
      "Accuracy: 0.367 (0.132)\n"
     ]
    }
   ],
   "source": [
    "#15\n",
    "X = wordvec_num#data\n",
    "y = jhj_emoji_labels#target\n",
    "\n",
    "kf = KFold(n_splits=10, random_state=1, shuffle=True)\n",
    "\n",
    "# create model\n",
    "model = GaussianNB()\n",
    "\n",
    "# evaluate model\n",
    "scores = cross_val_score(model, X, y, scoring='accuracy', cv=kf, n_jobs=-1)\n",
    "print(\"scores:\", scores)\n",
    "\n",
    "# report performance\n",
    "print('Accuracy: %.3f (%.3f)' % (mean(scores), std(scores)))"
   ]
  },
  {
   "cell_type": "code",
   "execution_count": 138,
   "metadata": {},
   "outputs": [
    {
     "name": "stdout",
     "output_type": "stream",
     "text": [
      "scores: [0.34883721 0.30232558 0.29069767 0.38372093 0.27906977 0.3372093\n",
      " 0.30232558 0.41860465 0.27058824 0.74117647]\n",
      "Accuracy: 0.367 (0.132)\n"
     ]
    }
   ],
   "source": [
    "#16\n",
    "X = wordvec_num_pos#data\n",
    "y = jhj_emoji_labels#target\n",
    "\n",
    "kf = KFold(n_splits=10, random_state=1, shuffle=True)\n",
    "\n",
    "# create model\n",
    "model = GaussianNB()\n",
    "# evaluate model\n",
    "scores = cross_val_score(model, X, y, scoring='accuracy', cv=kf, n_jobs=-1)\n",
    "print(\"scores:\", scores)\n",
    "\n",
    "# report performance\n",
    "print('Accuracy: %.3f (%.3f)' % (mean(scores), std(scores)))"
   ]
  },
  {
   "cell_type": "code",
   "execution_count": 139,
   "metadata": {},
   "outputs": [
    {
     "name": "stdout",
     "output_type": "stream",
     "text": [
      "scores: [0.86046512 0.68604651 0.76744186 0.84883721 0.79069767 0.80232558\n",
      " 0.76744186 0.75581395 0.84705882 0.81176471]\n",
      "Accuracy: 0.794 (0.050)\n"
     ]
    }
   ],
   "source": [
    "#17\n",
    "X = docvec_pos#data\n",
    "y = jhj_emoji_labels#target\n",
    "\n",
    "kf = KFold(n_splits=10, random_state=1, shuffle=True)\n",
    "\n",
    "# create model\n",
    "model = GaussianNB()\n",
    "\n",
    "# evaluate model\n",
    "scores = cross_val_score(model, X, y, scoring='accuracy', cv=kf, n_jobs=-1)\n",
    "print(\"scores:\", scores)\n",
    "\n",
    "# report performance\n",
    "print('Accuracy: %.3f (%.3f)' % (mean(scores), std(scores)))"
   ]
  },
  {
   "cell_type": "code",
   "execution_count": 22,
   "metadata": {},
   "outputs": [
    {
     "name": "stdout",
     "output_type": "stream",
     "text": [
      "scores: [0.87209302 0.6744186  0.76744186 0.84883721 0.79069767 0.8372093\n",
      " 0.77906977 0.73255814 0.87058824 0.78823529]\n",
      "Accuracy: 0.796 (0.060)\n"
     ]
    }
   ],
   "source": [
    "#18\n",
    "X = docvec_num#data\n",
    "y = jhj_emoji_labels#target\n",
    "\n",
    "kf = KFold(n_splits=10, random_state=1, shuffle=True)\n",
    "\n",
    "# create model\n",
    "model = GaussianNB()\n",
    "\n",
    "# evaluate model\n",
    "scores = cross_val_score(model, X, y, scoring='accuracy', cv=kf, n_jobs=-1)\n",
    "print(\"scores:\", scores)\n",
    "\n",
    "# report performance\n",
    "print('Accuracy: %.3f (%.3f)' % (mean(scores), std(scores)))"
   ]
  },
  {
   "cell_type": "code",
   "execution_count": 141,
   "metadata": {},
   "outputs": [
    {
     "name": "stdout",
     "output_type": "stream",
     "text": [
      "scores: [0.87209302 0.6744186  0.77906977 0.84883721 0.79069767 0.8255814\n",
      " 0.76744186 0.73255814 0.85882353 0.8       ]\n",
      "Accuracy: 0.795 (0.058)\n"
     ]
    }
   ],
   "source": [
    "#19\n",
    "X = docvec_num_pos#data\n",
    "y = jhj_emoji_labels#target\n",
    "\n",
    "kf = KFold(n_splits=10, random_state=1, shuffle=True)\n",
    "\n",
    "# create model\n",
    "model = GaussianNB()\n",
    "\n",
    "# evaluate model\n",
    "scores = cross_val_score(model, X, y, scoring='accuracy', cv=kf, n_jobs=-1)\n",
    "print(\"scores:\", scores)\n",
    "\n",
    "# report performance\n",
    "print('Accuracy: %.3f (%.3f)' % (mean(scores), std(scores)))"
   ]
  },
  {
   "cell_type": "code",
   "execution_count": 142,
   "metadata": {},
   "outputs": [
    {
     "name": "stdout",
     "output_type": "stream",
     "text": [
      "scores: [0.6744186  0.61627907 0.60465116 0.59302326 0.59302326 0.59302326\n",
      " 0.5        0.59302326 0.64705882 0.68235294]\n",
      "Accuracy: 0.610 (0.049)\n"
     ]
    }
   ],
   "source": [
    "#20\n",
    "X = pos_num#data\n",
    "y = jhj_emoji_labels#target\n",
    "\n",
    "kf = KFold(n_splits=10, random_state=1, shuffle=True)\n",
    "\n",
    "# create model\n",
    "model = GaussianNB()\n",
    "\n",
    "# evaluate model\n",
    "scores = cross_val_score(model, X, y, scoring='accuracy', cv=kf, n_jobs=-1)\n",
    "print(\"scores:\", scores)\n",
    "\n",
    "# report performance\n",
    "print('Accuracy: %.3f (%.3f)' % (mean(scores), std(scores)))"
   ]
  },
  {
   "cell_type": "code",
   "execution_count": 143,
   "metadata": {},
   "outputs": [
    {
     "name": "stdout",
     "output_type": "stream",
     "text": [
      "scores: [0.77906977 0.74418605 0.76744186 0.72093023 0.72093023 0.69767442\n",
      " 0.80232558 0.68604651 0.75294118 0.70588235]\n",
      "Accuracy: 0.738 (0.036)\n"
     ]
    }
   ],
   "source": [
    "#21\n",
    "X = all_features#data\n",
    "y = jhj_emoji_labels#target\n",
    "\n",
    "kf = KFold(n_splits=10, random_state=1, shuffle=True)\n",
    "\n",
    "# create model\n",
    "model = GaussianNB()\n",
    "\n",
    "# evaluate model\n",
    "scores = cross_val_score(model, X, y, scoring='accuracy', cv=kf, n_jobs=-1)\n",
    "print(\"scores:\", scores)\n",
    "\n",
    "# report performance\n",
    "print('Accuracy: %.3f (%.3f)' % (mean(scores), std(scores)))"
   ]
  },
  {
   "cell_type": "code",
   "execution_count": 148,
   "metadata": {},
   "outputs": [
    {
     "name": "stdout",
     "output_type": "stream",
     "text": [
      "scores: [0.69767442 0.76744186 0.76744186 0.70930233 0.69767442 0.63953488\n",
      " 0.68604651 0.69767442 0.69411765 0.77647059]\n",
      "Accuracy: 0.713 (0.041)\n"
     ]
    }
   ],
   "source": [
    "\n",
    "#experiment\n",
    "X = pos_bi_count_vec#data\n",
    "y = jhj_emoji_labels#target\n",
    "\n",
    "kf = KFold(n_splits=10, random_state=1, shuffle=True)\n",
    "\n",
    "# create model\n",
    "model = LogisticRegression(class_weight='balanced')\n",
    "\n",
    "# evaluate model\n",
    "scores = cross_val_score(model, X, y, scoring='accuracy', cv=kf, n_jobs=-1)\n",
    "print(\"scores:\", scores)\n",
    "\n",
    "# report performance\n",
    "print('Accuracy: %.3f (%.3f)' % (mean(scores), std(scores)))"
   ]
  },
  {
   "cell_type": "code",
   "execution_count": null,
   "metadata": {},
   "outputs": [],
   "source": []
  }
 ],
 "metadata": {
  "kernelspec": {
   "display_name": "Python 3",
   "language": "python",
   "name": "python3"
  },
  "language_info": {
   "codemirror_mode": {
    "name": "ipython",
    "version": 3
   },
   "file_extension": ".py",
   "mimetype": "text/x-python",
   "name": "python",
   "nbconvert_exporter": "python",
   "pygments_lexer": "ipython3",
   "version": "3.7.7"
  }
 },
 "nbformat": 4,
 "nbformat_minor": 4
}
